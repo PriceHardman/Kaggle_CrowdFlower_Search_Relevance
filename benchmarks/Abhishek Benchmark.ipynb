{
 "cells": [
  {
   "cell_type": "code",
   "execution_count": 1,
   "metadata": {
    "collapsed": true
   },
   "outputs": [],
   "source": [
    "\"\"\"\n",
    "Beating the Benchmark \n",
    "Search Results Relevance @ Kaggle\n",
    "__author__ : Abhishek\n",
    "\n",
    "\"\"\"\n",
    "import pandas as pd\n",
    "import numpy as np\n",
    "from sklearn.linear_model import LogisticRegression\n",
    "from sklearn.feature_extraction.text import TfidfVectorizer\n",
    "from sklearn.svm import SVC\n",
    "from sklearn.decomposition import TruncatedSVD\n",
    "from sklearn.preprocessing import StandardScaler\n",
    "from sklearn import decomposition, pipeline, metrics, grid_search\n",
    "from ml_metrics import quadratic_weighted_kappa"
   ]
  },
  {
   "cell_type": "code",
   "execution_count": 2,
   "metadata": {
    "collapsed": true
   },
   "outputs": [],
   "source": [
    "# Load the training file\n",
    "train = pd.read_csv('../raw_train.csv')\n",
    "test = pd.read_csv('../raw_test.csv')\n",
    "\n",
    "# create labels. drop useless columns\n",
    "y = train.median_relevance.values\n",
    "train = train.drop(['median_relevance', 'relevance_variance'], axis=1)"
   ]
  },
  {
   "cell_type": "code",
   "execution_count": 3,
   "metadata": {
    "collapsed": true
   },
   "outputs": [],
   "source": [
    "# do some lambda magic on text columns\n",
    "traindata = list(train.apply(lambda x:'%s %s' % (x['query'],x['product_title']),axis=1))\n",
    "testdata = list(test.apply(lambda x:'%s %s' % (x['query'],x['product_title']),axis=1))"
   ]
  },
  {
   "cell_type": "code",
   "execution_count": 4,
   "metadata": {
    "collapsed": true
   },
   "outputs": [],
   "source": [
    "# the infamous tfidf vectorizer (Do you remember this one?)\n",
    "tfv = TfidfVectorizer(min_df=3,  max_features=None, \n",
    "        strip_accents='unicode', analyzer='word',token_pattern=r'\\w{1,}',\n",
    "        ngram_range=(1, 5), use_idf=1,smooth_idf=1,sublinear_tf=1,\n",
    "        stop_words = 'english')"
   ]
  },
  {
   "cell_type": "code",
   "execution_count": 5,
   "metadata": {
    "collapsed": true
   },
   "outputs": [],
   "source": [
    "# Fit TFIDF\n",
    "tfv.fit(traindata)\n",
    "X =  tfv.transform(traindata) \n",
    "X_test = tfv.transform(testdata)"
   ]
  },
  {
   "cell_type": "code",
   "execution_count": 6,
   "metadata": {
    "collapsed": false
   },
   "outputs": [
    {
     "data": {
      "text/plain": [
       "(10158, 19255)"
      ]
     },
     "execution_count": 6,
     "metadata": {},
     "output_type": "execute_result"
    }
   ],
   "source": [
    "X.shape"
   ]
  },
  {
   "cell_type": "code",
   "execution_count": null,
   "metadata": {
    "collapsed": true
   },
   "outputs": [],
   "source": [
    "if __name__ == '__main__':    \n",
    "    # Initialize SVD\n",
    "    svd = TruncatedSVD()\n",
    "    \n",
    "    # Initialize the standard scaler \n",
    "    scl = StandardScaler()\n",
    "    \n",
    "    # We will use SVM here..\n",
    "    svm_model = SVC()\n",
    "    \n",
    "    # Create the pipeline \n",
    "    clf = pipeline.Pipeline([\n",
    "        ('svd', svd),\n",
    "        ('scl', scl),\n",
    "        ('svm', svm_model)\n",
    "    ])\n",
    "    \n",
    "    # Create a parameter grid to search for best parameters for everything in the pipeline\n",
    "    param_grid = {'svd__n_components' : [200, 400],\n",
    "                  'svm__C': [10, 12]\n",
    "    }\n",
    "    \n",
    "    # Kappa Scorer \n",
    "    kappa_scorer = metrics.make_scorer(quadratic_weighted_kappa, greater_is_better = True)\n",
    "    \n",
    "    # Initialize Grid Search Model\n",
    "    model = grid_search.GridSearchCV(estimator = clf, param_grid=param_grid, scoring=kappa_scorer,\n",
    "                                     verbose=10, n_jobs=-1, iid=True, refit=True, cv=2)\n",
    "                                     \n",
    "    # Fit Grid Search Model\n",
    "    model.fit(X, y)\n",
    "    print(\"Best score: %0.3f\" % model.best_score_)\n",
    "    print(\"Best parameters set:\")\n",
    "    best_parameters = model.best_estimator_.get_params()\n",
    "    for param_name in sorted(param_grid.keys()):\n",
    "        print(\"\\t%s: %r\" % (param_name, best_parameters[param_name]))\n",
    "    \n",
    "    # Get best model\n",
    "    best_model = model.best_estimator_\n",
    "    \n",
    "    # Fit model with best parameters optimized for quadratic_weighted_kappa\n",
    "    best_model.fit(X,y)\n",
    "    preds = best_model.predict(X_test)\n",
    "    \n",
    "    # Create your first submission file\n",
    "    submission = pd.DataFrame({\"id\": idx, \"prediction\": preds})\n",
    "    submission.to_csv(\"beating_the_benchmark_yet_again.csv\", index=False)\n"
   ]
  }
 ],
 "metadata": {
  "kernelspec": {
   "display_name": "Python 3",
   "language": "python",
   "name": "python3"
  },
  "language_info": {
   "codemirror_mode": {
    "name": "ipython",
    "version": 3
   },
   "file_extension": ".py",
   "mimetype": "text/x-python",
   "name": "python",
   "nbconvert_exporter": "python",
   "pygments_lexer": "ipython3",
   "version": "3.4.1"
  }
 },
 "nbformat": 4,
 "nbformat_minor": 0
}
