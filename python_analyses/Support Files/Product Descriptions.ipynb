{
 "cells": [
  {
   "cell_type": "code",
   "execution_count": 9,
   "metadata": {
    "collapsed": true
   },
   "outputs": [],
   "source": [
    "import pandas as pd\n",
    "import numpy as np\n",
    "import nltk\n",
    "import re\n",
    "from bs4 import BeautifulSoup"
   ]
  },
  {
   "cell_type": "code",
   "execution_count": 10,
   "metadata": {
    "collapsed": false
   },
   "outputs": [],
   "source": [
    "data = pd.read_csv(\"../../raw_train_test.csv\").fillna('')"
   ]
  },
  {
   "cell_type": "markdown",
   "metadata": {},
   "source": [
    "What percentage of the product descriptions are encoded in HTML?"
   ]
  },
  {
   "cell_type": "code",
   "execution_count": 11,
   "metadata": {
    "collapsed": false
   },
   "outputs": [
    {
     "name": "stdout",
     "output_type": "stream",
     "text": [
      "1186 records of 32671, or 3.63%, contain HTML\n"
     ]
    }
   ],
   "source": [
    "records_with_html = data[data['product_description'].str.contains(r'<.*></.*>')]\n",
    "print(\n",
    "    \"%d records of %d, or %0.2f%%, contain HTML\" % (\n",
    "        records_with_html.shape[0],\n",
    "        data.shape[0],\n",
    "        100*records_with_html.shape[0]/data.shape[0]\n",
    "    )\n",
    ")"
   ]
  },
  {
   "cell_type": "markdown",
   "metadata": {},
   "source": [
    "Lets get a sense of what the HTML records look like:"
   ]
  },
  {
   "cell_type": "code",
   "execution_count": 12,
   "metadata": {
    "collapsed": false
   },
   "outputs": [
    {
     "data": {
      "text/plain": [
       "21187    <ul>\\n\\t\\t<li>\\n\\t\\t\\tEnglish \\n\\t\\t\\t\\t</li>\\...\n",
       "17099    <ul>\\n\\t\\t<li>\\n\\t\\t\\tEnglish \\n\\t\\t\\t\\t</li>\\...\n",
       "13513    <ul>\\n\\t\\t<li>\\n\\t\\t\\tEnglish \\n\\t\\t\\t\\t</li>\\...\n",
       "11855    eBay item number:371093132910\\n\\n\\n\\tSeller as...\n",
       "31880    eBay item number:271839111115\\n\\n\\n\\tSeller as...\n",
       "32341    <ul>\\n\\t\\t<li>\\n\\t\\t\\tEnglish \\n\\t\\t\\t\\t</li>\\...\n",
       "30243    <ul>\\n\\t\\t<li>\\n\\t\\t\\tEnglish \\n\\t\\t\\t\\t</li>\\...\n",
       "19346    eBay item number:111453555354\\n\\n\\n\\tSeller as...\n",
       "17818    <ul>\\n\\t\\t<li>\\n\\t\\t\\tEnglish \\n\\t\\t\\t\\t</li>\\...\n",
       "25606    eBay item number:351093533969\\n\\n\\n\\tSeller as...\n",
       "26049    eBay item number:291425349623\\n\\n\\n\\tSeller as...\n",
       "22805    <ul>\\n\\t\\t<li>\\n\\t\\t\\tEnglish \\n\\t\\t\\t\\t</li>\\...\n",
       "28776    eBay item number:381125774374\\n\\n\\n\\tSeller as...\n",
       "23198    eBay item number:121628713307\\n\\n\\n\\tSeller as...\n",
       "31102    eBay item number:181675692099\\n\\n\\n\\tSeller as...\n",
       "29286    eBay item number:201334732759\\n\\n\\n\\tSeller as...\n",
       "17175    <ul>\\n\\t\\t<li>\\n\\t\\t\\tEnglish \\n\\t\\t\\t\\t</li>\\...\n",
       "25394    <ul>\\n\\t\\t<li>\\n\\t\\t\\tEnglish \\n\\t\\t\\t\\t</li>\\...\n",
       "24792    <ul>\\n\\t\\t<li>\\n\\t\\t\\tEnglish \\n\\t\\t\\t\\t</li>\\...\n",
       "22647    eBay item number:391104956763\\n\\n\\n\\tSeller as...\n",
       "12519    eBay item number:391121234966\\n\\n\\n\\tSeller as...\n",
       "3512     <ul>\\n\\t\\t<li>\\n\\t\\t\\tEnglish \\n\\t\\t\\t\\t</li>\\...\n",
       "32580    eBay item number:291347990165\\n\\n\\n\\tSeller as...\n",
       "10866    <ul>\\n\\t\\t<li>\\n\\t\\t\\tEnglish \\n\\t\\t\\t\\t</li>\\...\n",
       "31439    eBay item number:111626726808\\n\\n\\n\\tSeller as...\n",
       "12740    eBay item number:121345370042\\n\\n\\n\\tSeller as...\n",
       "31135    eBay item number:371193233829\\n\\n\\n\\tSeller as...\n",
       "31251    eBay item number:281509497182\\n\\n\\n\\tSeller as...\n",
       "27694    eBay item number:221463973915\\n\\n\\n\\tSeller as...\n",
       "5185     <ul>\\n\\t\\t<li>\\n\\t\\t\\tEnglish \\n\\t\\t\\t\\t</li>\\...\n",
       "26789    eBay item number:311324449485\\n\\n\\n\\tSeller as...\n",
       "18251    eBay item number:251778920812\\n\\n\\n\\tSeller as...\n",
       "32160    eBay item number:131442675073\\n\\n\\n\\tSeller as...\n",
       "27897    <ul>\\n\\t\\t<li>\\n\\t\\t\\tEnglish \\n\\t\\t\\t\\t</li>\\...\n",
       "22723    <ul>\\n\\t\\t<li>\\n\\t\\t\\tEnglish \\n\\t\\t\\t\\t</li>\\...\n",
       "29099    <ul>\\n\\t\\t<li>\\n\\t\\t\\tEnglish \\n\\t\\t\\t\\t</li>\\...\n",
       "27220    <ul>\\n\\t\\t<li>\\n\\t\\t\\tEnglish \\n\\t\\t\\t\\t</li>\\...\n",
       "23136    <ul>\\n\\t\\t<li>\\n\\t\\t\\tEnglish \\n\\t\\t\\t\\t</li>\\...\n",
       "15037    eBay item number:121171438668\\n\\n\\n\\tSeller as...\n",
       "15427    eBay item number:271809666068\\n\\n\\n\\tSeller as...\n",
       "Name: product_description, dtype: object"
      ]
     },
     "execution_count": 12,
     "metadata": {},
     "output_type": "execute_result"
    }
   ],
   "source": [
    "html_sample = records_with_html['product_description'].sample(n=40)\n",
    "html_sample"
   ]
  },
  {
   "cell_type": "markdown",
   "metadata": {},
   "source": [
    "The product descriptions containing HTML seem to come in two distinct flavors:\n",
    "    - Those beginning with an eBay item number\n",
    "    - Those beginning with \"<ul>\\n\\t\\t<li>\\n\\t\\t\\tEnglish\"\n",
    "How many are formatted this way?"
   ]
  },
  {
   "cell_type": "code",
   "execution_count": 13,
   "metadata": {
    "collapsed": false
   },
   "outputs": [
    {
     "name": "stdout",
     "output_type": "stream",
     "text": [
      "570 records of 1186, or 48.06% contain the string\n"
     ]
    }
   ],
   "source": [
    "begin_with_ebay_string = records_with_html[\n",
    "    records_with_html['product_description'].str.contains(\n",
    "        \"^eBay item number\"\n",
    "    )\n",
    "]\n",
    "print(\"%d records of %d, or %0.2f%% contain the string\" % (\n",
    "        begin_with_ebay_string.shape[0],\n",
    "        records_with_html.shape[0],\n",
    "        100*begin_with_ebay_string.shape[0]/records_with_html.shape[0]\n",
    "    )\n",
    ")"
   ]
  },
  {
   "cell_type": "code",
   "execution_count": 14,
   "metadata": {
    "collapsed": false
   },
   "outputs": [
    {
     "name": "stdout",
     "output_type": "stream",
     "text": [
      "587 records of 1186, or 49.49% contain the string\n"
     ]
    }
   ],
   "source": [
    "begin_with_html_string = records_with_html[\n",
    "    records_with_html['product_description'].str.contains(\n",
    "        \"^<ul>\\n\\t\\t<li>\\n\\t\\t\\tEnglish\"\n",
    "    )\n",
    "]\n",
    "print(\"%d records of %d, or %0.2f%% contain the string\" % (\n",
    "        begin_with_html_string.shape[0],\n",
    "        records_with_html.shape[0],\n",
    "        100*begin_with_html_string.shape[0]/records_with_html.shape[0]\n",
    "    )\n",
    ")"
   ]
  },
  {
   "cell_type": "markdown",
   "metadata": {},
   "source": [
    "Lets take the first 20 characters of each description, and see how many distinct groups there are:"
   ]
  },
  {
   "cell_type": "code",
   "execution_count": 15,
   "metadata": {
    "collapsed": false
   },
   "outputs": [
    {
     "name": "stdout",
     "output_type": "stream",
     "text": [
      "'<table>\\n\\t<tr>\\n\\t\\t'\n",
      "'eBay item number'\n",
      "'International Bu'\n",
      "'<ul>\\n\\t\\t<li>\\n\\t\\t\\tE'\n",
      "'The Nintendo Wii'\n",
      "'2. International'\n",
      "'front seat featu'\n",
      "'100% BRAND NEW H'\n",
      "'Brand<td>Kitchen'\n",
      "'Original Studio '\n",
      "'<p><p></p>\\n<p></'\n",
      "'<p></p>'\n",
      "'Ancona Modular W'\n",
      "'<ul>\\n     <li>Al'\n",
      "'Backup data on a'\n",
      "'<p>\\n</p>\\n\\n<td>\\n<'\n",
      "'<li>YOU ARE BIDD'\n",
      "'<table>\\n  <tbody'\n",
      "'Originally relea'\n",
      "'&ldquo;Refurbish'\n",
      "'<strong>This dur'\n"
     ]
    }
   ],
   "source": [
    "first20 = records_with_html['product_description'].apply(lambda row: row[:16]).unique()\n",
    "for descr in first20:\n",
    "    print(repr(descr))"
   ]
  },
  {
   "cell_type": "markdown",
   "metadata": {},
   "source": [
    "Out of 1186 HTML-containing records, (587 + 570) = 1157 records begin with the same strings. If the records within each category are structured similarly, we can programmatically extract the useful data from those records. Lets examine the structure of the records starting with \"eBay item number\""
   ]
  },
  {
   "cell_type": "code",
   "execution_count": 16,
   "metadata": {
    "collapsed": false
   },
   "outputs": [
    {
     "data": {
      "text/plain": [
       "\"eBay item number:261765583333\\n\\n\\n\\tSeller assumes all responsibility for this listing.\\n\\t\\n\\t\\tLast updated on\\n\\t\\t&nbsp;May 04, 2015 07:32:40 PDT&nbsp;\\n\\t\\tView all revisions\\n\\t\\t\\n\\t\\n\\n\\t\\t\\n\\t\\t\\t\\n\\t\\t\\t\\t\\t<strong>Item specifics</strong>\\n\\t\\t\\t\\t\\t<table>\\n\\t\\t\\t\\t\\t\\t\\n\\t\\t\\t\\t\\t\\t<tr>\\n\\t\\t\\t\\t\\t\\t\\t\\t\\t<td>\\n\\t\\t\\t\\t\\t\\t\\t\\t\\t \\t\\t\\tCondition:</td>\\n\\t\\t\\t\\t\\t\\t\\t\\t\\t\\t\\t \\n\\t\\t\\t\\t\\t\\t\\t\\t\\t\\t\\t<td>\\n\\t\\t\\t\\t\\t\\t\\t\\t\\t\\t\\t\\t\\n\\t\\t\\t\\t\\t\\t\\t\\t\\t\\t\\t\\t\\t\\t\\t\\t\\t\\n\\t\\t\\t\\t\\t\\t\\t\\t\\t\\t\\t\\t\\t\\t\\t\\n\\t\\t\\t\\t\\t\\t\\t\\t\\t\\t\\t\\t\\t\\t\\t\\n\\t\\t\\t\\t\\t\\t\\t\\t\\t\\t\\t\\t\\t\\t\\t\\n\\t\\t\\t\\t\\t\\t\\t\\t\\t\\t\\t\\t\\t\\t\\t\\tNew: A brand-new, unused, unopened, undamaged item (including handmade items). See the seller's listing \\n\\t\\t\\t\\t\\t\\t\\t\\t\\t\\t\\t\\t\\t\\t\\t\\t\\n\\t\\t\\t\\t\\t\\t\\t\\t\\t\\t\\t\\t\\t\\t\\t\\t\\t\\t\\tfor full details.\\n\\t\\t\\t\\t\\t\\t\\t\\t\\t\\t\\t\\t\\t\\t\\t\\t\\t\\t\\t\\t\\tSee all condition definitions<strong>- opens in a new window or tab</strong>\\n\\t\\t\\t\\t\\t\\t\\t\\t\\t\\t\\t\\t\\t\\t\\t\\t\\t\\t\\t\\n\\t\\t\\t\\t\\t\\t\\t\\t\\t\\t\\t\\t\\t\\t\\t\\t\\t\\t\\n\\t\\t\\t\\t\\t\\t\\t\\t\\t\\t\\t\\t\\t\\t\\t\\t\\t\\t\\n\\t\\t\\t\\t\\t\\t\\t\\t\\t\\t\\t\\t\\t\\t\\t\\t\\t\\t\\n\\t\\t\\t\\t\\t\\t\\t\\t\\t\\t\\t\\t\\t\\t\\t\\t\\t\\t\\t... Read more<strong>about the condition</strong>\\t\\n\\t\\t\\t\\t\\t\\t\\t\\t\\t\\t\\t\\t\\t\\t\\t\\t\\t\\t\\n\\t\\t\\t\\t\\t\\t\\t\\t\\t\\t\\t\\t\\t\\t\\t\\t\\t\\n\\t\\t\\t\\t\\t\\t\\t\\t\\t\\t\\t\\t\\t\\t\\t\\n\\t\\t\\t\\t\\t\\t\\t\\t\\t\\t\\t\\t\\t\\t\\n\\t\\t\\t\\t\\t\\t\\t\\t\\t\\t\\t\\t\\t</td>\\n\\t\\t\\t\\t\\t\\t\\t\\t\\t\\t<td>&nbsp;</td>\\n\\t\\t\\t\\t\\t\\t\\t\\t\\t</tr>\\n\\t\\t\\t\\t\\t\\t\\t\\n\\t\\t\\t\\t\\t\\t\\t</table>\\n\\t\\t\\t\\t\\t\\t\\n\\t\\t\\t\\t\\t\\n\\t\\t\\t\\n\\t\\n\\t\\t\\t\\t<table>\\n\\t<tr>\\n\\t\\t<td>\\n\\t\\t\\t\\n<table>\\n  <tr>\\n    <td>\\n    \\n    \\n  </td></tr></table></td></tr></table>\""
      ]
     },
     "execution_count": 16,
     "metadata": {},
     "output_type": "execute_result"
    }
   ],
   "source": [
    "ebay1, ebay2 = begin_with_ebay_string['product_description'].sample(2)\n",
    "ebay1"
   ]
  },
  {
   "cell_type": "code",
   "execution_count": 17,
   "metadata": {
    "collapsed": false
   },
   "outputs": [
    {
     "data": {
      "text/plain": [
       "\"eBay item number:161352947813\\n\\n\\n\\tSeller assumes all responsibility for this listing.\\n\\t\\n\\t\\tLast updated on\\n\\t\\t&nbsp;Apr 16, 2015 23:26:28 PDT&nbsp;\\n\\t\\tView all revisions\\n\\t\\t\\n\\t\\n\\n\\t\\t\\n\\t\\t\\t\\n\\t\\t\\t\\t\\t<strong>Item specifics</strong>\\n\\t\\t\\t\\t\\t<table>\\n\\t\\t\\t\\t\\t\\t\\n\\t\\t\\t\\t\\t\\t<tr>\\n\\t\\t\\t\\t\\t\\t\\t\\t\\t<td>\\n\\t\\t\\t\\t\\t\\t\\t\\t\\t \\t\\t\\tCondition:</td>\\n\\t\\t\\t\\t\\t\\t\\t\\t\\t\\t\\t \\n\\t\\t\\t\\t\\t\\t\\t\\t\\t\\t\\t<td>\\n\\t\\t\\t\\t\\t\\t\\t\\t\\t\\t\\t\\t\\n\\t\\t\\t\\t\\t\\t\\t\\t\\t\\t\\t\\t\\t\\t\\t\\t\\t\\n\\t\\t\\t\\t\\t\\t\\t\\t\\t\\t\\t\\t\\t\\t\\t\\n\\t\\t\\t\\t\\t\\t\\t\\t\\t\\t\\t\\t\\t\\t\\t\\n\\t\\t\\t\\t\\t\\t\\t\\t\\t\\t\\t\\t\\t\\t\\t\\n\\t\\t\\t\\t\\t\\t\\t\\t\\t\\t\\t\\t\\t\\t\\t\\tNew: A brand-new, unused, unopened, undamaged item in its original packaging (where packaging is \\n\\t\\t\\t\\t\\t\\t\\t\\t\\t\\t\\t\\t\\t\\t\\t\\t\\n\\t\\t\\t\\t\\t\\t\\t\\t\\t\\t\\t\\t\\t\\t\\t\\t\\t\\t\\tapplicable). Packaging should be the same as what is found in a retail store, unless the item is handmade or was packaged by the manufacturer in non-retail packaging, such as an unprinted box or plastic bag. See the seller's listing for full details.\\n\\t\\t\\t\\t\\t\\t\\t\\t\\t\\t\\t\\t\\t\\t\\t\\t\\t\\t\\t\\t\\tSee all condition definitions<strong>- opens in a new window or tab</strong>\\n\\t\\t\\t\\t\\t\\t\\t\\t\\t\\t\\t\\t\\t\\t\\t\\t\\t\\t\\t\\n\\t\\t\\t\\t\\t\\t\\t\\t\\t\\t\\t\\t\\t\\t\\t\\t\\t\\t\\n\\t\\t\\t\\t\\t\\t\\t\\t\\t\\t\\t\\t\\t\\t\\t\\t\\t\\t\\n\\t\\t\\t\\t\\t\\t\\t\\t\\t\\t\\t\\t\\t\\t\\t\\t\\t\\t\\n\\t\\t\\t\\t\\t\\t\\t\\t\\t\\t\\t\\t\\t\\t\\t\\t\\t\\t\\t... Read more<strong>about the condition</strong>\\t\\n\\t\\t\\t\\t\\t\\t\\t\\t\\t\\t\\t\\t\\t\\t\\t\\t\\t\\t\\n\\t\\t\\t\\t\\t\\t\\t\\t\\t\\t\\t\\t\\t\\t\\t\\t\\t\\n\\t\\t\\t\\t\\t\\t\\t\\t\\t\\t\\t\\t\\t\\t\\t\\n\\t\\t\\t\\t\\t\\t\\t\\t\\t\\t\\t\\t\\t\\t\\n\\t\\t\\t\\t\\t\\t\\t\\t\\t\\t\\t\\t\\t</td>\\n\\t\\t\\t\\t\\t\\t\\t\\t\\t\\t<td>\\n\\t\\t\\t\\t\\t\\t\\t\\t\\t \\t\\t\\tType: </td>\\n\\t\\t\\t\\t\\t\\t\\t\\t\\t\\t\\t \\n\\t\\t\\t\\t\\t\\t\\t\\t\\t\\t\\t<td>\\n\\t\\t\\t\\t\\t\\t\\t\\t\\t\\t\\t\\tAutomatic</td>\\n\\t\\t\\t\\t\\t\\t\\t\\t\\t\\t</tr>\\n\\t\\t\\t\\t\\t\\t\\t<tr>\\n\\t\\t\\t\\t\\t\\t\\t\\t\\t<td>\\n\\t\\t\\t\\t\\t\\t\\t\\t\\t \\t\\t\\tModel: </td>\\n\\t\\t\\t\\t\\t\\t\\t\\t\\t\\t\\t \\n\\t\\t\\t\\t\\t\\t\\t\\t\\t\\t\\t<td>\\n\\t\\t\\t\\t\\t\\t\\t\\t\\t\\t\\t\\t<strong>HD8930 Phillips Automatic Cappuccino Creme Maker</strong></td>\\n\\t\\t\\t\\t\\t\\t\\t\\t\\t\\t<td>\\n\\t\\t\\t\\t\\t\\t\\t\\t\\t \\t\\t\\tBrand: </td>\\n\\t\\t\\t\\t\\t\\t\\t\\t\\t\\t\\t \\n\\t\\t\\t\\t\\t\\t\\t\\t\\t\\t\\t<td>\\n\\t\\t\\t\\t\\t\\t\\t\\t\\t\\t\\t\\t<strong>Saeco</strong></td>\\n\\t\\t\\t\\t\\t\\t\\t\\t\\t\\t</tr>\\n\\t\\t\\t\\t\\t\\t\\t<tr>\\n\\t\\t\\t\\t\\t\\t\\t\\t\\t<td>\\n\\t\\t\\t\\t\\t\\t\\t\\t\\t \\t\\t\\tMPN: </td>\\n\\t\\t\\t\\t\\t\\t\\t\\t\\t\\t\\t \\n\\t\\t\\t\\t\\t\\t\\t\\t\\t\\t\\t<td>\\n\\t\\t\\t\\t\\t\\t\\t\\t\\t\\t\\t\\t<strong>HD8930 Phillips Automatic Cappuccino Creme Maker</strong></td>\\n\\t\\t\\t\\t\\t\\t\\t\\t\\t\\t<td>\\n\\t\\t\\t\\t\\t\\t\\t\\t\\t \\t\\t\\tNumber of Cups: </td>\\n\\t\\t\\t\\t\\t\\t\\t\\t\\t\\t\\t \\n\\t\\t\\t\\t\\t\\t\\t\\t\\t\\t\\t<td>\\n\\t\\t\\t\\t\\t\\t\\t\\t\\t\\t\\t\\t20</td>\\n\\t\\t\\t\\t\\t\\t\\t\\t\\t\\t</tr>\\n\\t\\t\\t\\t\\t\\t\\t<tr>\\n\\t\\t\\t\\t\\t\\t\\t\\t\\t<td>\\n\\t\\t\\t\\t\\t\\t\\t\\t\\t \\t\\t\\tSupply Type: </td>\\n\\t\\t\\t\\t\\t\\t\\t\\t\\t\\t\\t \\n\\t\\t\\t\\t\\t\\t\\t\\t\\t\\t\\t<td>\\n\\t\\t\\t\\t\\t\\t\\t\\t\\t\\t\\t\\tCoffee Beans</td>\\n\\t\\t\\t\\t\\t\\t\\t\\t\\t\\t<td>\\n\\t\\t\\t\\t\\t\\t\\t\\t\\t \\t\\t\\tPressure: </td>\\n\\t\\t\\t\\t\\t\\t\\t\\t\\t\\t\\t \\n\\t\\t\\t\\t\\t\\t\\t\\t\\t\\t\\t<td>\\n\\t\\t\\t\\t\\t\\t\\t\\t\\t\\t\\t\\t15 bar</td>\\n\\t\\t\\t\\t\\t\\t\\t\\t\\t\\t</tr>\\n\\t\\t\\t\\t\\t\\t\\t<tr>\\n\\t\\t\\t\\t\\t\\t\\t\\t\\t<td>\\n\\t\\t\\t\\t\\t\\t\\t\\t\\t \\t\\t\\tWater Tank: </td>\\n\\t\\t\\t\\t\\t\\t\\t\\t\\t\\t\\t \\n\\t\\t\\t\\t\\t\\t\\t\\t\\t\\t\\t<td>\\n\\t\\t\\t\\t\\t\\t\\t\\t\\t\\t\\t\\t74 Oz.</td>\\n\\t\\t\\t\\t\\t\\t\\t\\t\\t\\t<td>\\n\\t\\t\\t\\t\\t\\t\\t\\t\\t \\t\\t\\tFeatures: </td>\\n\\t\\t\\t\\t\\t\\t\\t\\t\\t\\t\\t \\n\\t\\t\\t\\t\\t\\t\\t\\t\\t\\t\\t<td>\\n\\t\\t\\t\\t\\t\\t\\t\\t\\t\\t\\t\\tAuto Shut-Off, Built-In Grinder, Built-In Water Filter, Cup Warming Surface, Pause-and-Serve, Permanent Filter, Removable Drip Tray, Self-Cleaning, Steam Wand, Timer, Water Tank</td>\\n\\t\\t\\t\\t\\t\\t\\t\\t\\t\\t</tr>\\n\\t\\t\\t\\t\\t\\t\\t<tr>\\n\\t\\t\\t\\t\\t\\t\\t\\t\\t<td>\\n\\t\\t\\t\\t\\t\\t\\t\\t\\t \\t\\t\\tMaterial: </td>\\n\\t\\t\\t\\t\\t\\t\\t\\t\\t\\t\\t \\n\\t\\t\\t\\t\\t\\t\\t\\t\\t\\t\\t<td>\\n\\t\\t\\t\\t\\t\\t\\t\\t\\t\\t\\t\\tStainless Steel</td>\\n\\t\\t\\t\\t\\t\\t\\t\\t\\t\\t<td>\\n\\t\\t\\t\\t\\t\\t\\t\\t\\t \\t\\t\\tPower: </td>\\n\\t\\t\\t\\t\\t\\t\\t\\t\\t\\t\\t \\n\\t\\t\\t\\t\\t\\t\\t\\t\\t\\t\\t<td>\\n\\t\\t\\t\\t\\t\\t\\t\\t\\t\\t\\t\\t1200-1499 W</td>\\n\\t\\t\\t\\t\\t\\t\\t\\t\\t\\t</tr>\\n\\t\\t\\t\\t\\t\\t\\t<tr>\\n\\t\\t\\t\\t\\t\\t\\t\\t\\t<td>\\n\\t\\t\\t\\t\\t\\t\\t\\t\\t \\t\\t\\tBuilt-in Grinder: </td>\\n\\t\\t\\t\\t\\t\\t\\t\\t\\t\\t\\t \\n\\t\\t\\t\\t\\t\\t\\t\\t\\t\\t\\t<td>\\n\\t\\t\\t\\t\\t\\t\\t\\t\\t\\t\\t\\tWith Built-in Grinder</td>\\n\\t\\t\\t\\t\\t\\t\\t\\t\\t\\t<td>\\n\\t\\t\\t\\t\\t\\t\\t\\t\\t \\t\\t\\tColor: </td>\\n\\t\\t\\t\\t\\t\\t\\t\\t\\t\\t\\t \\n\\t\\t\\t\\t\\t\\t\\t\\t\\t\\t\\t<td>\\n\\t\\t\\t\\t\\t\\t\\t\\t\\t\\t\\t\\t<strong>Silver</strong></td>\\n\\t\\t\\t\\t\\t\\t\\t\\t\\t\\t</tr>\\n\\t\\t\\t\\t\\t\\t\\t\\n\\t\\t\\t\\t\\t\\t\\t</table>\\n\\t\\t\\t\\t\\t\\t\\n\\t\\t\\t\\t\\t\\n\\t\\t\\t\\n\\t\\n\\t\\t\\t\\t\\n\\t\\t\\n\\t\\t\\t\\t<table>\\n\\t<tr>\\n\\t\\t<td>\\n\\t\\t\\tSaeco HD8930/47 Royal One Touch Automatic Espresso Machine<table><tr><td><table><tr><td>Saeco HD8930/47 Royal One Touch Automatic Espresso MachineBrand New w/ 1 Year Factory Backed Warranty!</td></tr><tr><td><table><tr><td></td></tr></table></td></tr></table></td></tr></table></td></tr></table>\""
      ]
     },
     "execution_count": 17,
     "metadata": {},
     "output_type": "execute_result"
    }
   ],
   "source": [
    "ebay2"
   ]
  },
  {
   "cell_type": "markdown",
   "metadata": {},
   "source": [
    "Now lets look at the records beginning with `\"<ul>\\n\\t\\t<li>\\n\\t\\t\\tEnglish\"`, presumably the results of some translation service."
   ]
  },
  {
   "cell_type": "code",
   "execution_count": 18,
   "metadata": {
    "collapsed": false
   },
   "outputs": [
    {
     "data": {
      "text/plain": [
       "\"<ul>\\n\\t\\t<li>\\n\\t\\t\\tEnglish \\n\\t\\t\\t\\t</li>\\n    \\t<li>\\n    \\t\\t    \\n    \\t</li>\\n    \\t<li>\\n    \\t\\t\\t \\n    \\t\\t\\t \\n    \\t\\t</li>\\n    \\t</ul>\\n\\n    \\n\\t\\t\\tThis translation tool is for your convenience only. The accuracy and accessibility of the resulting translation is not guaranteed.\\n\\t\\n\\t\\n\\n\\n\\n\\t\\t\\n\\t\\t\\n\\t\\t\\t\\t\\t\\t\\t<ul>\\n\\t\\t\\t\\t\\t\\t\\t\\t<li>\\n\\t\\t\\t\\t\\t\\t\\t\\t\\t\\tEnglishEnglish\\n\\t\\t\\t\\t\\t\\t\\t\\t\\t\\t\\t</li>\\n\\t\\t\\t\\t\\t\\t\\t\\t<li>\\n\\t\\t\\t\\t\\t\\t\\tالعربيةArabic\\n\\t\\t\\t\\t\\t\\t\\t\\t</li>\\n\\t\\t\\t\\t\\t<li>\\n\\t\\t\\t\\t\\t\\t\\t中文（简体）Chinese (Simplified)\\n\\t\\t\\t\\t\\t\\t\\t\\t</li>\\n\\t\\t\\t\\t\\t<li>\\n\\t\\t\\t\\t\\t\\t\\t中文（繁体）Chinese (Traditional)\\n\\t\\t\\t\\t\\t\\t\\t\\t</li>\\n\\t\\t\\t\\t\\t<li>\\n\\t\\t\\t\\t\\t\\t\\tČeskyCzech\\n\\t\\t\\t\\t\\t\\t\\t\\t</li>\\n\\t\\t\\t\\t\\t<li>\\n\\t\\t\\t\\t\\t\\t\\tNederlandsDutch\\n\\t\\t\\t\\t\\t\\t\\t\\t</li>\\n\\t\\t\\t\\t\\t<li>\\n\\t\\t\\t\\t\\t\\t\\tSuomiFinnish\\n\\t\\t\\t\\t\\t\\t\\t\\t</li>\\n\\t\\t\\t\\t\\t<li>\\n\\t\\t\\t\\t\\t\\t\\tΕλληνικάGreek\\n\\t\\t\\t\\t\\t\\t\\t\\t</li>\\n\\t\\t\\t\\t\\t<li>\\n\\t\\t\\t\\t\\t\\t\\tעבריתHebrew\\n\\t\\t\\t\\t\\t\\t\\t\\t</li>\\n\\t\\t\\t\\t\\t<li>\\n\\t\\t\\t\\t\\t\\t\\tMagyarHungarian\\n\\t\\t\\t\\t\\t\\t\\t\\t</li>\\n\\t\\t\\t\\t\\t</ul>\\n\\t\\t\\t\\t\\t\\t\\n\\t\\t\\t\\t\\t\\n\\t\\t\\t\\t\\t\\t\\t<ul>\\n\\t\\t\\t\\t\\t\\t\\t\\t<li>\\n\\t\\t\\t\\t\\t\\t\\tBahasa IndonesiaIndonesian\\n\\t\\t\\t\\t\\t\\t\\t\\t</li>\\n\\t\\t\\t\\t\\t<li>\\n\\t\\t\\t\\t\\t\\t\\t日本語Japanese\\n\\t\\t\\t\\t\\t\\t\\t\\t</li>\\n\\t\\t\\t\\t\\t<li>\\n\\t\\t\\t\\t\\t\\t\\t한국어Korean\\n\\t\\t\\t\\t\\t\\t\\t\\t</li>\\n\\t\\t\\t\\t\\t<li>\\n\\t\\t\\t\\t\\t\\t\\tNorskNorwegian\\n\\t\\t\\t\\t\\t\\t\\t\\t</li>\\n\\t\\t\\t\\t\\t<li>\\n\\t\\t\\t\\t\\t\\t\\tPortuguêsPortuguese\\n\\t\\t\\t\\t\\t\\t\\t\\t</li>\\n\\t\\t\\t\\t\\t<li>\\n\\t\\t\\t\\t\\t\\t\\tRomânăRomanian\\n\\t\\t\\t\\t\\t\\t\\t\\t</li>\\n\\t\\t\\t\\t\\t<li>\\n\\t\\t\\t\\t\\t\\t\\tРусскийRussian\\n\\t\\t\\t\\t\\t\\t\\t\\t</li>\\n\\t\\t\\t\\t\\t<li>\\n\\t\\t\\t\\t\\t\\t\\tSlovenčinaSlovak\\n\\t\\t\\t\\t\\t\\t\\t\\t</li>\\n\\t\\t\\t\\t\\t<li>\\n\\t\\t\\t\\t\\t\\t\\t\\n\\t\\t\\t\\t\\t\\t\\t\\t</li>\\n\\t\\t\\t\\t\\t</ul>\\n\\t\\t\\t\\t\\t\\t\\n\\t\\t\\t\\t\\t\\n\\t\\t\\t\\t\\t\\t\\t<ul>\\n\\t\\t\\t\\t\\t\\t\\t\\t<li>\\n\\t\\t\\t\\t\\t\\t\\tFrançaisFrench\\n\\t\\t\\t\\t\\t\\t\\t\\t</li>\\n\\t\\t\\t\\t\\t<li>\\n\\t\\t\\t\\t\\t\\t\\tItalianoItalian\\n\\t\\t\\t\\t\\t\\t\\t\\t</li>\\n\\t\\t\\t\\t\\t<li>\\n\\t\\t\\t\\t\\t\\t\\tEspañolSpanish\\n\\t\\t\\t\\t\\t\\t\\t\\t</li>\\n\\t\\t\\t\\t\\t<li>\\n\\t\\t\\t\\t\\t\\t\\tSvenskaSwedish\\n\\t\\t\\t\\t\\t\\t\\t\\t</li>\\n\\t\\t\\t\\t\\t<li>\\n\\t\\t\\t\\t\\t\\t\\tภาษาไทยThai\\n\\t\\t\\t\\t\\t\\t\\t\\t</li>\\n\\t\\t\\t\\t\\t<li>\\n\\t\\t\\t\\t\\t\\t\\tTürkçeTurkish\\n\\t\\t\\t\\t\\t\\t\\t\\t</li>\\n\\t\\t\\t\\t\\t<li>\\n\\t\\t\\t\\t\\t\\t\\tУкраї́нськаUkrainian\\n\\t\\t\\t\\t\\t\\t\\t\\t</li>\\n\\t\\t\\t\\t\\t<li>\\n\\t\\t\\t\\t\\t\\t\\tTiếng ViệtVietnamese\\n\\t\\t\\t\\t\\t\\t\\t\\t</li>\\n\\t\\t\\t\\t\\t</ul>\\n\\t\\t\\t\\t\\t\\t\\n\\t\\t\\t\\t\\t\\n\\t\\t\\n\\t\\t\\t<ul>\\n\\t\\t\\t\\t<li></li>\\n\\t\\t\\t\\t<li>Note: The accuracy and accessibility of the resulting translation is not guaranteed.</li>\\n\\t\\t\\t</ul>\\n\\t\\t\\n\\t\\n\\n\\t\\n\\n\\t\\t\\t\\t\\n\\t\\t\\t\\n\\t\\t\\n\\teBay item number:361240497538\\n\\n\\n\\tSeller assumes all responsibility for this listing.\\n\\t\\n\\t\\tLast updated on\\n\\t\\t&nbsp;Apr 28, 2015 22:52:43 PDT&nbsp;\\n\\t\\tView all revisions\\n\\t\\t\\n\\t\\n\\n\\t\\t\\n\\t\\t\\t\\n\\t\\t\\t\\t\\t<strong>Item specifics</strong>\\n\\t\\t\\t\\t\\t<table>\\n\\t\\t\\t\\t\\t\\t\\n\\t\\t\\t\\t\\t\\t<tr>\\n\\t\\t\\t\\t\\t\\t\\t\\t\\t<td>\\n\\t\\t\\t\\t\\t\\t\\t\\t\\t \\t\\t\\tCondition:</td>\\n\\t\\t\\t\\t\\t\\t\\t\\t\\t\\t\\t \\n\\t\\t\\t\\t\\t\\t\\t\\t\\t\\t\\t<td>\\n\\t\\t\\t\\t\\t\\t\\t\\t\\t\\t\\t\\t\\n\\t\\t\\t\\t\\t\\t\\t\\t\\t\\t\\t\\t\\t\\t\\t\\t\\t\\n\\t\\t\\t\\t\\t\\t\\t\\t\\t\\t\\t\\t\\t\\t\\t\\n\\t\\t\\t\\t\\t\\t\\t\\t\\t\\t\\t\\t\\t\\t\\t\\n\\t\\t\\t\\t\\t\\t\\t\\t\\t\\t\\t\\t\\t\\t\\t\\n\\t\\t\\t\\t\\t\\t\\t\\t\\t\\t\\t\\t\\t\\t\\t\\tNew: A brand-new, unused, unopened, undamaged item in its original packaging (where packaging is \\n\\t\\t\\t\\t\\t\\t\\t\\t\\t\\t\\t\\t\\t\\t\\t\\t\\n\\t\\t\\t\\t\\t\\t\\t\\t\\t\\t\\t\\t\\t\\t\\t\\t\\t\\t\\tapplicable). Packaging should be the same as what is found in a retail store, unless the item is handmade or was packaged by the manufacturer in non-retail packaging, such as an unprinted box or plastic bag. See the seller's listing for full details.\\n\\t\\t\\t\\t\\t\\t\\t\\t\\t\\t\\t\\t\\t\\t\\t\\t\\t\\t\\t\\t\\tSee all condition definitions<strong>- opens in a new window or tab</strong>\\n\\t\\t\\t\\t\\t\\t\\t\\t\\t\\t\\t\\t\\t\\t\\t\\t\\t\\t\\t\\n\\t\\t\\t\\t\\t\\t\\t\\t\\t\\t\\t\\t\\t\\t\\t\\t\\t\\t\\n\\t\\t\\t\\t\\t\\t\\t\\t\\t\\t\\t\\t\\t\\t\\t\\t\\t\\t\\n\\t\\t\\t\\t\\t\\t\\t\\t\\t\\t\\t\\t\\t\\t\\t\\t\\t\\t\\n\\t\\t\\t\\t\\t\\t\\t\\t\\t\\t\\t\\t\\t\\t\\t\\t\\t\\t\\t... Read more<strong>about the condition</strong>\\t\\n\\t\\t\\t\\t\\t\\t\\t\\t\\t\\t\\t\\t\\t\\t\\t\\t\\t\\t\\n\\t\\t\\t\\t\\t\\t\\t\\t\\t\\t\\t\\t\\t\\t\\t\\t\\t\\n\\t\\t\\t\\t\\t\\t\\t\\t\\t\\t\\t\\t\\t\\t\\t\\n\\t\\t\\t\\t\\t\\t\\t\\t\\t\\t\\t\\t\\t\\t\\n\\t\\t\\t\\t\\t\\t\\t\\t\\t\\t\\t\\t\\t</td>\\n\\t\\t\\t\\t\\t\\t\\t\\t\\t\\t<td>\\n\\t\\t\\t\\t\\t\\t\\t\\t\\t \\t\\t\\tRoom: </td>\\n\\t\\t\\t\\t\\t\\t\\t\\t\\t\\t\\t \\n\\t\\t\\t\\t\\t\\t\\t\\t\\t\\t\\t<td>\\n\\t\\t\\t\\t\\t\\t\\t\\t\\t\\t\\t\\tBedroom Kid's Teen's Dining Living Room Office</td>\\n\\t\\t\\t\\t\\t\\t\\t\\t\\t\\t</tr>\\n\\t\\t\\t\\t\\t\\t\\t<tr>\\n\\t\\t\\t\\t\\t\\t\\t\\t\\t<td>\\n\\t\\t\\t\\t\\t\\t\\t\\t\\t \\t\\t\\tColor: </td>\\n\\t\\t\\t\\t\\t\\t\\t\\t\\t\\t\\t \\n\\t\\t\\t\\t\\t\\t\\t\\t\\t\\t\\t<td>\\n\\t\\t\\t\\t\\t\\t\\t\\t\\t\\t\\t\\t<strong>Black</strong></td>\\n\\t\\t\\t\\t\\t\\t\\t\\t\\t\\t<td>\\n\\t\\t\\t\\t\\t\\t\\t\\t\\t \\t\\t\\tFeatures: </td>\\n\\t\\t\\t\\t\\t\\t\\t\\t\\t\\t\\t \\n\\t\\t\\t\\t\\t\\t\\t\\t\\t\\t\\t<td>\\n\\t\\t\\t\\t\\t\\t\\t\\t\\t\\t\\t\\t12-Hour Display</td>\\n\\t\\t\\t\\t\\t\\t\\t\\t\\t\\t</tr>\\n\\t\\t\\t\\t\\t\\t\\t<tr>\\n\\t\\t\\t\\t\\t\\t\\t\\t\\t<td>\\n\\t\\t\\t\\t\\t\\t\\t\\t\\t \\t\\t\\tStyle: </td>\\n\\t\\t\\t\\t\\t\\t\\t\\t\\t\\t\\t \\n\\t\\t\\t\\t\\t\\t\\t\\t\\t\\t\\t<td>\\n\\t\\t\\t\\t\\t\\t\\t\\t\\t\\t\\t\\tModern</td>\\n\\t\\t\\t\\t\\t\\t\\t\\t\\t\\t<td>\\n\\t\\t\\t\\t\\t\\t\\t\\t\\t \\t\\t\\tPower Source: </td>\\n\\t\\t\\t\\t\\t\\t\\t\\t\\t\\t\\t \\n\\t\\t\\t\\t\\t\\t\\t\\t\\t\\t\\t<td>\\n\\t\\t\\t\\t\\t\\t\\t\\t\\t\\t\\t\\tBattery Powered</td>\\n\\t\\t\\t\\t\\t\\t\\t\\t\\t\\t</tr>\\n\\t\\t\\t\\t\\t\\t\\t<tr>\\n\\t\\t\\t\\t\\t\\t\\t\\t\\t<td>\\n\\t\\t\\t\\t\\t\\t\\t\\t\\t \\t\\t\\tModel: </td>\\n\\t\\t\\t\\t\\t\\t\\t\\t\\t\\t\\t \\n\\t\\t\\t\\t\\t\\t\\t\\t\\t\\t\\t<td>\\n\\t\\t\\t\\t\\t\\t\\t\\t\\t\\t\\t\\t<strong>Morden</strong></td>\\n\\t\\t\\t\\t\\t\\t\\t\\t\\t\\t<td>\\n\\t\\t\\t\\t\\t\\t\\t\\t\\t \\t\\t\\tBrand: </td>\\n\\t\\t\\t\\t\\t\\t\\t\\t\\t\\t\\t \\n\\t\\t\\t\\t\\t\\t\\t\\t\\t\\t\\t<td>\\n\\t\\t\\t\\t\\t\\t\\t\\t\\t\\t\\t\\t<strong>Unbranded</strong></td>\\n\\t\\t\\t\\t\\t\\t\\t\\t\\t\\t</tr>\\n\\t\\t\\t\\t\\t\\t\\t<tr>\\n\\t\\t\\t\\t\\t\\t\\t\\t\\t<td>\\n\\t\\t\\t\\t\\t\\t\\t\\t\\t \\t\\t\\tCountry/Region of Manufacture: </td>\\n\\t\\t\\t\\t\\t\\t\\t\\t\\t\\t\\t \\n\\t\\t\\t\\t\\t\\t\\t\\t\\t\\t\\t<td>\\n\\t\\t\\t\\t\\t\\t\\t\\t\\t\\t\\t\\tChina</td>\\n\\t\\t\\t\\t\\t\\t\\t\\t\\t\\t<td>\\n\\t\\t\\t\\t\\t\\t\\t\\t\\t \\t\\t\\tMaterial: </td>\\n\\t\\t\\t\\t\\t\\t\\t\\t\\t\\t\\t \\n\\t\\t\\t\\t\\t\\t\\t\\t\\t\\t\\t<td>\\n\\t\\t\\t\\t\\t\\t\\t\\t\\t\\t\\t\\tSteel+EVA</td>\\n\\t\\t\\t\\t\\t\\t\\t\\t\\t\\t</tr>\\n\\t\\t\\t\\t\\t\\t\\t\\n\\t\\t\\t\\t\\t\\t\\t</table>\\n\\t\\t\\t\\t\\t\\t\\n\\t\\t\\t\\t\\t\\n\\t\\t\\t\\n\\t\\n\\t\\t\\t\\t\\t\\n\\t\\t\\t\\t\\t\\t\\n\\t\\t\\t\\t\\t\\t\\t\\n\\t\\t\\t\\t\\t\\t\\t\\t\\n\\t\\t\\t\\t\\t\\t\\t\\t\\t<strong>GoodQualityLowPrice</strong>\\n\\t\\t\\t\\t\\t\\t\\t\\t\\t\\n         rainscenery2009\\n        \\n\\t            (44271\\n\\t                    )\""
      ]
     },
     "execution_count": 18,
     "metadata": {},
     "output_type": "execute_result"
    }
   ],
   "source": [
    "html1, html2 = begin_with_html_string['product_description'].sample(2)\n",
    "html1"
   ]
  },
  {
   "cell_type": "code",
   "execution_count": 19,
   "metadata": {
    "collapsed": false
   },
   "outputs": [
    {
     "data": {
      "text/plain": [
       "'<ul>\\n\\t\\t<li>\\n\\t\\t\\tEnglish \\n\\t\\t\\t\\t</li>\\n    \\t<li>\\n    \\t\\t    \\n    \\t</li>\\n    \\t<li>\\n    \\t\\t\\t \\n    \\t\\t\\t \\n    \\t\\t</li>\\n    \\t</ul>\\n\\n    \\n\\t\\t\\tThis translation tool is for your convenience only. The accuracy and accessibility of the resulting translation is not guaranteed.\\n\\t\\n\\t\\n\\n\\n\\n\\t\\t\\n\\t\\t\\n\\t\\t\\t\\t\\t\\t\\t<ul>\\n\\t\\t\\t\\t\\t\\t\\t\\t<li>\\n\\t\\t\\t\\t\\t\\t\\t\\t\\t\\tEnglishEnglish\\n\\t\\t\\t\\t\\t\\t\\t\\t\\t\\t\\t</li>\\n\\t\\t\\t\\t\\t\\t\\t\\t<li>\\n\\t\\t\\t\\t\\t\\t\\tالعربيةArabic\\n\\t\\t\\t\\t\\t\\t\\t\\t</li>\\n\\t\\t\\t\\t\\t<li>\\n\\t\\t\\t\\t\\t\\t\\t中文（简体）Chinese (Simplified)\\n\\t\\t\\t\\t\\t\\t\\t\\t</li>\\n\\t\\t\\t\\t\\t<li>\\n\\t\\t\\t\\t\\t\\t\\t中文（繁体）Chinese (Traditional)\\n\\t\\t\\t\\t\\t\\t\\t\\t</li>\\n\\t\\t\\t\\t\\t<li>\\n\\t\\t\\t\\t\\t\\t\\tČeskyCzech\\n\\t\\t\\t\\t\\t\\t\\t\\t</li>\\n\\t\\t\\t\\t\\t<li>\\n\\t\\t\\t\\t\\t\\t\\tNederlandsDutch\\n\\t\\t\\t\\t\\t\\t\\t\\t</li>\\n\\t\\t\\t\\t\\t<li>\\n\\t\\t\\t\\t\\t\\t\\tSuomiFinnish\\n\\t\\t\\t\\t\\t\\t\\t\\t</li>\\n\\t\\t\\t\\t\\t<li>\\n\\t\\t\\t\\t\\t\\t\\tΕλληνικάGreek\\n\\t\\t\\t\\t\\t\\t\\t\\t</li>\\n\\t\\t\\t\\t\\t<li>\\n\\t\\t\\t\\t\\t\\t\\tעבריתHebrew\\n\\t\\t\\t\\t\\t\\t\\t\\t</li>\\n\\t\\t\\t\\t\\t<li>\\n\\t\\t\\t\\t\\t\\t\\tMagyarHungarian\\n\\t\\t\\t\\t\\t\\t\\t\\t</li>\\n\\t\\t\\t\\t\\t</ul>\\n\\t\\t\\t\\t\\t\\t\\n\\t\\t\\t\\t\\t\\n\\t\\t\\t\\t\\t\\t\\t<ul>\\n\\t\\t\\t\\t\\t\\t\\t\\t<li>\\n\\t\\t\\t\\t\\t\\t\\tBahasa IndonesiaIndonesian\\n\\t\\t\\t\\t\\t\\t\\t\\t</li>\\n\\t\\t\\t\\t\\t<li>\\n\\t\\t\\t\\t\\t\\t\\t日本語Japanese\\n\\t\\t\\t\\t\\t\\t\\t\\t</li>\\n\\t\\t\\t\\t\\t<li>\\n\\t\\t\\t\\t\\t\\t\\t한국어Korean\\n\\t\\t\\t\\t\\t\\t\\t\\t</li>\\n\\t\\t\\t\\t\\t<li>\\n\\t\\t\\t\\t\\t\\t\\tNorskNorwegian\\n\\t\\t\\t\\t\\t\\t\\t\\t</li>\\n\\t\\t\\t\\t\\t<li>\\n\\t\\t\\t\\t\\t\\t\\tPortuguêsPortuguese\\n\\t\\t\\t\\t\\t\\t\\t\\t</li>\\n\\t\\t\\t\\t\\t<li>\\n\\t\\t\\t\\t\\t\\t\\tRomânăRomanian\\n\\t\\t\\t\\t\\t\\t\\t\\t</li>\\n\\t\\t\\t\\t\\t<li>\\n\\t\\t\\t\\t\\t\\t\\tРусскийRussian\\n\\t\\t\\t\\t\\t\\t\\t\\t</li>\\n\\t\\t\\t\\t\\t<li>\\n\\t\\t\\t\\t\\t\\t\\tSlovenčinaSlovak\\n\\t\\t\\t\\t\\t\\t\\t\\t</li>\\n\\t\\t\\t\\t\\t<li>\\n\\t\\t\\t\\t\\t\\t\\t\\n\\t\\t\\t\\t\\t\\t\\t\\t</li>\\n\\t\\t\\t\\t\\t</ul>\\n\\t\\t\\t\\t\\t\\t\\n\\t\\t\\t\\t\\t\\n\\t\\t\\t\\t\\t\\t\\t<ul>\\n\\t\\t\\t\\t\\t\\t\\t\\t<li>\\n\\t\\t\\t\\t\\t\\t\\tFrançaisFrench\\n\\t\\t\\t\\t\\t\\t\\t\\t</li>\\n\\t\\t\\t\\t\\t<li>\\n\\t\\t\\t\\t\\t\\t\\tItalianoItalian\\n\\t\\t\\t\\t\\t\\t\\t\\t</li>\\n\\t\\t\\t\\t\\t<li>\\n\\t\\t\\t\\t\\t\\t\\tEspañolSpanish\\n\\t\\t\\t\\t\\t\\t\\t\\t</li>\\n\\t\\t\\t\\t\\t<li>\\n\\t\\t\\t\\t\\t\\t\\tSvenskaSwedish\\n\\t\\t\\t\\t\\t\\t\\t\\t</li>\\n\\t\\t\\t\\t\\t<li>\\n\\t\\t\\t\\t\\t\\t\\tภาษาไทยThai\\n\\t\\t\\t\\t\\t\\t\\t\\t</li>\\n\\t\\t\\t\\t\\t<li>\\n\\t\\t\\t\\t\\t\\t\\tTürkçeTurkish\\n\\t\\t\\t\\t\\t\\t\\t\\t</li>\\n\\t\\t\\t\\t\\t<li>\\n\\t\\t\\t\\t\\t\\t\\tУкраї́нськаUkrainian\\n\\t\\t\\t\\t\\t\\t\\t\\t</li>\\n\\t\\t\\t\\t\\t<li>\\n\\t\\t\\t\\t\\t\\t\\tTiếng ViệtVietnamese\\n\\t\\t\\t\\t\\t\\t\\t\\t</li>\\n\\t\\t\\t\\t\\t</ul>\\n\\t\\t\\t\\t\\t\\t\\n\\t\\t\\t\\t\\t\\n\\t\\t\\n\\t\\t\\t<ul>\\n\\t\\t\\t\\t<li></li>\\n\\t\\t\\t\\t<li>Note: The accuracy and accessibility of the resulting translation is not guaranteed.</li>\\n\\t\\t\\t</ul>\\n\\t\\t\\n\\t\\n\\n\\t\\n\\n\\t\\t\\t\\t\\n\\t\\t\\t\\n\\t\\t\\n\\teBay item number:281620220793\\n\\n\\n\\tSeller assumes all responsibility for this listing.\\n\\t\\n\\t\\tLast updated on\\n\\t\\t&nbsp;Apr 12, 2015 14:58:22 PDT&nbsp;\\n\\t\\tView all revisions\\n\\t\\t\\n\\t\\n\\n\\t\\t\\n\\t\\t\\t\\n\\t\\t\\t\\t\\t<strong>Item specifics</strong>\\n\\t\\t\\t\\t\\t<table>\\n\\t\\t\\t\\t\\t\\t\\n\\t\\t\\t\\t\\t\\t<tr>\\n\\t\\t\\t\\t\\t\\t\\t\\t\\t<td>\\n\\t\\t\\t\\t\\t\\t\\t\\t\\t \\t\\t\\tCondition:</td>\\n\\t\\t\\t\\t\\t\\t\\t\\t\\t\\t\\t \\n\\t\\t\\t\\t\\t\\t\\t\\t\\t\\t\\t<td>\\n\\t\\t\\t\\t\\t\\t\\t\\t\\t\\t\\t\\t\\n\\t\\t\\t\\t\\t\\t\\t\\t\\t\\t\\t\\t\\t\\t\\t\\t\\t\\n\\t\\t\\t\\t\\t\\t\\t\\t\\t\\t\\t\\t\\t\\t\\t\\n\\t\\t\\t\\t\\t\\t\\t\\t\\t\\t\\t\\t\\t\\t\\t\\n\\t\\t\\t\\t\\t\\t\\t\\t\\t\\t\\t\\t\\t\\t\\t\\n\\t\\t\\t\\t\\t\\t\\t\\t\\t\\t\\t\\t\\t\\t\\t\\tNew: A brand-new, unused, unopened, undamaged item in its original packaging (where packaging is \\n\\t\\t\\t\\t\\t\\t\\t\\t\\t\\t\\t\\t\\t\\t\\t\\t\\n\\t\\t\\t\\t\\t\\t\\t\\t\\t\\t\\t\\t\\t\\t\\t\\t\\t\\t\\tapplicable). Packaging should be the same as what is found in a retail store, unless the item is handmade or was packaged by the manufacturer in non-retail packaging, such as an unprinted box or plastic bag. See the seller\\'s listing for full details.\\n\\t\\t\\t\\t\\t\\t\\t\\t\\t\\t\\t\\t\\t\\t\\t\\t\\t\\t\\t\\t\\tSee all condition definitions<strong>- opens in a new window or tab</strong>\\n\\t\\t\\t\\t\\t\\t\\t\\t\\t\\t\\t\\t\\t\\t\\t\\t\\t\\t\\t\\n\\t\\t\\t\\t\\t\\t\\t\\t\\t\\t\\t\\t\\t\\t\\t\\t\\t\\t\\n\\t\\t\\t\\t\\t\\t\\t\\t\\t\\t\\t\\t\\t\\t\\t\\t\\t\\t\\n\\t\\t\\t\\t\\t\\t\\t\\t\\t\\t\\t\\t\\t\\t\\t\\t\\t\\t\\n\\t\\t\\t\\t\\t\\t\\t\\t\\t\\t\\t\\t\\t\\t\\t\\t\\t\\t\\t... Read more<strong>about the condition</strong>\\t\\n\\t\\t\\t\\t\\t\\t\\t\\t\\t\\t\\t\\t\\t\\t\\t\\t\\t\\t\\n\\t\\t\\t\\t\\t\\t\\t\\t\\t\\t\\t\\t\\t\\t\\t\\t\\t\\n\\t\\t\\t\\t\\t\\t\\t\\t\\t\\t\\t\\t\\t\\t\\t\\n\\t\\t\\t\\t\\t\\t\\t\\t\\t\\t\\t\\t\\t\\t\\n\\t\\t\\t\\t\\t\\t\\t\\t\\t\\t\\t\\t\\t</td>\\n\\t\\t\\t\\t\\t\\t\\t\\t\\t\\t<td>\\n\\t\\t\\t\\t\\t\\t\\t\\t\\t \\t\\t\\tType: </td>\\n\\t\\t\\t\\t\\t\\t\\t\\t\\t\\t\\t \\n\\t\\t\\t\\t\\t\\t\\t\\t\\t\\t\\t<td>\\n\\t\\t\\t\\t\\t\\t\\t\\t\\t\\t\\t\\tCookware Set</td>\\n\\t\\t\\t\\t\\t\\t\\t\\t\\t\\t</tr>\\n\\t\\t\\t\\t\\t\\t\\t<tr>\\n\\t\\t\\t\\t\\t\\t\\t\\t\\t<td>\\n\\t\\t\\t\\t\\t\\t\\t\\t\\t \\t\\t\\tFeatures: </td>\\n\\t\\t\\t\\t\\t\\t\\t\\t\\t\\t\\t \\n\\t\\t\\t\\t\\t\\t\\t\\t\\t\\t\\t<td>\\n\\t\\t\\t\\t\\t\\t\\t\\t\\t\\t\\t\\tDishwasher Safe</td>\\n\\t\\t\\t\\t\\t\\t\\t\\t\\t\\t<td>\\n\\t\\t\\t\\t\\t\\t\\t\\t\\t \\t\\t\\tBrand: </td>\\n\\t\\t\\t\\t\\t\\t\\t\\t\\t\\t\\t \\n\\t\\t\\t\\t\\t\\t\\t\\t\\t\\t\\t<td>\\n\\t\\t\\t\\t\\t\\t\\t\\t\\t\\t\\t\\t<strong>Mainstays</strong></td>\\n\\t\\t\\t\\t\\t\\t\\t\\t\\t\\t</tr>\\n\\t\\t\\t\\t\\t\\t\\t<tr>\\n\\t\\t\\t\\t\\t\\t\\t\\t\\t<td>\\n\\t\\t\\t\\t\\t\\t\\t\\t\\t \\t\\t\\tColor: </td>\\n\\t\\t\\t\\t\\t\\t\\t\\t\\t\\t\\t \\n\\t\\t\\t\\t\\t\\t\\t\\t\\t\\t\\t<td>\\n\\t\\t\\t\\t\\t\\t\\t\\t\\t\\t\\t\\t<strong>Red</strong></td>\\n\\t\\t\\t\\t\\t\\t\\t\\t\\t\\t<td>\\n\\t\\t\\t\\t\\t\\t\\t\\t\\t \\t\\t\\tMaterial: </td>\\n\\t\\t\\t\\t\\t\\t\\t\\t\\t\\t\\t \\n\\t\\t\\t\\t\\t\\t\\t\\t\\t\\t\\t<td>\\n\\t\\t\\t\\t\\t\\t\\t\\t\\t\\t\\t\\tAluminium</td>\\n\\t\\t\\t\\t\\t\\t\\t\\t\\t\\t</tr>\\n\\t\\t\\t\\t\\t\\t\\t\\n\\t\\t\\t\\t\\t\\t\\t</table>\\n\\t\\t\\t\\t\\t\\t\\n\\t\\t\\t\\t\\t\\n\\t\\t\\t\\n\\t\\n\\t\\t\\t\\t<table>\\n\\t<tr>\\n\\t\\t<td>\\n\\t\\t\\t<strong>SAME ITEM WITH 6% OFFER CLICK HERE</strong><br><br><br>This Mainstays Nonstick Cookware Set&nbsp; nonstick cooking with a tough and durable polished aluminum exterior finish. The interior nonstick coating makes&nbsp; cooking easy and simple cleanup, while heat- and shatter-resistant tempered glass lids allow quick monitoring of your cooking progress. This 9-piece cookware set contains a frying pan, a deep saute pan with lid, two sauce pans with lids and a Dutch oven with a lid. The polished aluminum cookware set can be used with gas, electric and ceramic cook tops, and the set can also be washed in the dishwasher.<strong>Mainstays 9-Piece Nonstick Cookware Set, Polished Aluminum:</strong><br><ul><li>7\" frying pan</li><li>9\" deep saute pan with lid</li><li>1-qt sauce pan with lid</li><li>2-qt sauce pan with lid</li><li>4-qt Dutch oven with lid</li><li>Aluminum construction</li><li>Nonstick interiors</li><li>Tempered glass lids</li><li>Compatible with gas, electric and ceramic cooktops</li><li>Dishwasher safe</li></ul><strong>YOU MIGHT ALSO LIKE 18 piece set at a lower price. CHECK OUT</strong>http://www.ebay.com/itm/261787026420?ssPageName=STRK:MESELX:IT&amp;_trksid=p3984.m1555.l2649<br><p><strong><em>Payment</em></strong></p><p>We accept PayPal and credit cards /debit cards for buyers with no PayPal account. Buy with confidence, your payments are safe and secure. Please ensure the address you provide on your order is correct.</p><p><strong>Shipping:&nbsp;</strong>Currently, item can be shipped only within the U.S. lower 48 states. Sorry no PO Boxes or APOs</p><p><em>**Some of our items are shipped directly from warehouses or suppliers and in the event that an item is delayed or sold out, we will notify you of the delay and give you the option for a full refund.**</em></p><p>&nbsp;<br>Once your order is placed we cannot cancel it.&nbsp; We cannot do a return</br></p><p></p></br></br></br></br></br></td></tr></table>'"
      ]
     },
     "execution_count": 19,
     "metadata": {},
     "output_type": "execute_result"
    }
   ],
   "source": [
    "html2"
   ]
  },
  {
   "cell_type": "markdown",
   "metadata": {},
   "source": [
    "It turns out that both the records beginning with \"eBay item number\" and the translation information are structured largely similarly: the relevant product info begins after the term \"Item Specifics\", which is enclosed in a `<strong>` tag. Lets find out how many of all the HTML-encoded records are structured this way:"
   ]
  },
  {
   "cell_type": "code",
   "execution_count": 20,
   "metadata": {
    "collapsed": false
   },
   "outputs": [
    {
     "name": "stderr",
     "output_type": "stream",
     "text": [
      "C:\\Anaconda3\\lib\\site-packages\\pandas\\core\\strings.py:207: UserWarning: This pattern has match groups. To actually get the groups, use str.extract.\n",
      "  \" groups, use str.extract.\", UserWarning)\n"
     ]
    },
    {
     "data": {
      "text/plain": [
       "(1154, 1186)"
      ]
     },
     "execution_count": 20,
     "metadata": {},
     "output_type": "execute_result"
    }
   ],
   "source": [
    "records_with_html[\n",
    "    records_with_html['product_description'].str.contains(\n",
    "        r\"^(.|\\n)*Item specifics</strong>\"\n",
    "    )].shape[0], records_with_html.shape[0]"
   ]
  },
  {
   "cell_type": "markdown",
   "metadata": {},
   "source": [
    "It seems then that we have product descriptions falling into three categories:\n",
    "    - Category A: Those encoded in HTML and containing the string \n",
    "      \"Item Specifics\", after which lies the relevant product information.\n",
    "    - Category B: Those encoded in HTML that don't contain that string.\n",
    "    - Category C: Those not encoded in HTML.\n",
    "\n",
    "We can parse all three together by:\n",
    "    - Passing through BeautifulSoup's get_text() function (it'll leave \n",
    "      non-HTML unalterred.\n",
    "    - Removing the regex \"^(.|\\n)*Item specifics\" from strings that have \n",
    "      it. It'll leave others unalterred.\n",
    "    - Replacing newlines tabs etc with whitespace, stripping \n",
    "      any extra whitespace.\n",
    "\n",
    "Lets get a sample from each category:"
   ]
  },
  {
   "cell_type": "code",
   "execution_count": 21,
   "metadata": {
    "collapsed": false
   },
   "outputs": [
    {
     "name": "stdout",
     "output_type": "stream",
     "text": [
      "Category A: 1154 records\n",
      "Category B: 32 records\n",
      "Category C: 31485 records\n"
     ]
    }
   ],
   "source": [
    "category_a = records_with_html[\n",
    "    records_with_html['product_description'].str.contains(\n",
    "        r\"^(.|\\n)*Item specifics</strong>\")]\n",
    "category_b = records_with_html[\n",
    "    ~records_with_html['product_description'].str.contains(\n",
    "        r\"^(.|\\n)*Item specifics</strong>\")]\n",
    "category_c = data[~data['product_description'].str.contains(r'<.*></.*>')]\n",
    "print(\"Category A: %d records\" % category_a.shape[0])\n",
    "print(\"Category B: %d records\" % category_b.shape[0])\n",
    "print(\"Category C: %d records\" % category_c.shape[0])"
   ]
  },
  {
   "cell_type": "code",
   "execution_count": 29,
   "metadata": {
    "collapsed": false
   },
   "outputs": [],
   "source": [
    "cat_a_sample = category_a['product_description'].sample(1).values[0]\n",
    "cat_b_sample = category_b['product_description'].sample(1).values[0]\n",
    "cat_c_sample = category_c['product_description'].sample(1).values[0]"
   ]
  },
  {
   "cell_type": "code",
   "execution_count": 23,
   "metadata": {
    "collapsed": false
   },
   "outputs": [],
   "source": [
    "def preprocess_text(description):\n",
    "    without_html_tags = BeautifulSoup(description).get_text()\n",
    "    without_headers = re.sub(r\"^(.|\\n)*Item specifics\",\"\",without_html_tags)\n",
    "    without_symbols = re.sub(r\"[^a-zA-Z0-9]\",\" \",without_headers)\n",
    "    without_extra_spaces = \" \".join(without_symbols.split())\n",
    "    return without_extra_spaces"
   ]
  },
  {
   "cell_type": "code",
   "execution_count": 33,
   "metadata": {
    "collapsed": true
   },
   "outputs": [],
   "source": [
    "def faster_preprocess(description):\n",
    "    no_html = BeautifulSoup(description).get_text()\n",
    "    no_symbols = re.sub(r\"(^(.|\\n)*Item specifics)|([^a-zA-Z0-9])\",\" \",no_html)\n",
    "    no_extra_spaces = \" \".join(no_symbols.split())\n",
    "    return no_extra_spaces"
   ]
  },
  {
   "cell_type": "code",
   "execution_count": 39,
   "metadata": {
    "collapsed": false
   },
   "outputs": [
    {
     "data": {
      "text/plain": [
       "'Condition New A brand new unused unopened undamaged item in its original packaging where packaging is applicable Packaging should be the same as what is found in a retail store unless the item is handmade or was packaged by the manufacturer in non retail packaging such as an unprinted box or plastic bag See the seller s listing for full details See all condition definitions opens in a new window or tab Read moreabout the condition Room Living Room Dining Room Style Antique Features Analog Round SKU S041865300009 Material Metal Size L Color Wood 007estorm 007estorm 16583 98 7'"
      ]
     },
     "execution_count": 39,
     "metadata": {},
     "output_type": "execute_result"
    }
   ],
   "source": [
    "preprocess_text(cat_a_sample)"
   ]
  },
  {
   "cell_type": "code",
   "execution_count": 40,
   "metadata": {
    "collapsed": false
   },
   "outputs": [
    {
     "data": {
      "text/plain": [
       "'Backup data on a faster hard disk with a monstrous capacity Seagate Barracuda 2 TB internal hard drive The Seagate internal hard drive has a 7 200 rpm rotational speed which boosts reading from and writing to the hard drive This 2 TB Seagate hard drive boots your OS faster and loads applications much quicker The Seagate Barracuda 2 TB internal hard drive s 64 MB cache memory and faster average seek time make for reduced power consumption and generating lesser noise and vibrations Connecting via a SATA 2 or SATA 3 standard port this Seagate internal hard drive provides a very high data transfer rate The Seagate hard drive can be installed in any Windows based desktops Product FeaturesScreaming fast with plenty of room to growThe Barracuda XT hard drive from Seagate offers customers a compelling storage choice for high capacity high performance computing solutions The Barracuda XT drive is built on a full speed 7200 rpm 4 disk platform Further turbocharged with a huge 64 MB cache and the industry s high performance SATA 6Gbps interface the Barracuda XT drive is destined to set a new standard for high speed desktop performance High definition content is driving the need for space and speed Whether on the Internet in a theater or erupting from a high powered PC gaming rig content is getting richer and proliferating around the world The professionals who develop and produce this content and the consumers who enjoy it find themselves in need of more powerful computing systems to process and store this data No longer do power users need to compromise when it comes to choosing capacity or speed the Barracuda XT drive has it all Discerning high performance PC users multimedia development professionals and power users in general will appreciate the capacity performance and flexibility the Barracuda XT drive offers Think Green sustainabilityAt Seagate Seagate recognizes the importance of building products with a philosophy of sustainability in mind Business sustainability to deliver leading edge products that meet customer s performance reliability and time to market needs helps keep them competitive In addition Seagate strives to achieve these goals using environmentally sustainable processes The Barracuda XT product does not compromise here either but delivers leading capacity and performance in accordance with Seagate s Think Green programs for RoHS compliance and is an industry leader in advanced recycling programs CompatibilityBarracuda XT hard drives feature the industry s high speed SATA interface SATA 6Gbps This provides customers the opportunity to maximize performance as the industry develops controllers applications and associated architectures to fully exploit this increased interface speed In addition Barracuda XT drives are also fully compatible with legacy SATA 1 5Gbps and SATA 3Gbps interfaces giving customers a future proof hard drive with full backward compatibility'"
      ]
     },
     "execution_count": 40,
     "metadata": {},
     "output_type": "execute_result"
    }
   ],
   "source": [
    "preprocess_text(cat_b_sample)"
   ]
  },
  {
   "cell_type": "code",
   "execution_count": 41,
   "metadata": {
    "collapsed": false
   },
   "outputs": [
    {
     "data": {
      "text/plain": [
       "'This Stockton Blue Rescued Denim Rug is constructed from handwoven rescued off white and blue denim This contemporary styled wool rug adds an elegant touch to your home decor This rug is not recommended for high traffic areas'"
      ]
     },
     "execution_count": 41,
     "metadata": {},
     "output_type": "execute_result"
    }
   ],
   "source": [
    "preprocess_text(cat_c_sample)"
   ]
  },
  {
   "cell_type": "code",
   "execution_count": 45,
   "metadata": {
    "collapsed": false
   },
   "outputs": [
    {
     "data": {
      "text/plain": [
       "(True, True, True)"
      ]
     },
     "execution_count": 45,
     "metadata": {},
     "output_type": "execute_result"
    }
   ],
   "source": [
    "(faster_preprocess(cat_a_sample) == preprocess_text(cat_a_sample),\n",
    "faster_preprocess(cat_b_sample) == preprocess_text(cat_b_sample),\n",
    "faster_preprocess(cat_c_sample) == preprocess_text(cat_c_sample))"
   ]
  },
  {
   "cell_type": "code",
   "execution_count": 27,
   "metadata": {
    "collapsed": true
   },
   "outputs": [],
   "source": [
    "def tokenize(text):\n",
    "    processed_text = preprocess_text(text)\n",
    "    tokens = nltk.word_tokenize(processed_text)\n",
    "    lemmatizer = nltk.WordNetLemmatizer()\n",
    "    stemmer = nltk.PorterStemmer()\n",
    "    return [lemmatizer.lemmatize(stemmer.stem(t.lower())) for t in tokens]\n",
    "\n",
    "def token_text(text):\n",
    "    return \" \".join(tokenize(text))"
   ]
  },
  {
   "cell_type": "code",
   "execution_count": 28,
   "metadata": {
    "collapsed": false
   },
   "outputs": [
    {
     "data": {
      "text/plain": [
       "''"
      ]
     },
     "execution_count": 28,
     "metadata": {},
     "output_type": "execute_result"
    }
   ],
   "source": [
    "cat_c_sample"
   ]
  }
 ],
 "metadata": {
  "kernelspec": {
   "display_name": "Python 3",
   "language": "python",
   "name": "python3"
  },
  "language_info": {
   "codemirror_mode": {
    "name": "ipython",
    "version": 3
   },
   "file_extension": ".py",
   "mimetype": "text/x-python",
   "name": "python",
   "nbconvert_exporter": "python",
   "pygments_lexer": "ipython3",
   "version": "3.4.1"
  }
 },
 "nbformat": 4,
 "nbformat_minor": 0
}
