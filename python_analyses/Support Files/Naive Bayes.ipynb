{
 "cells": [
  {
   "cell_type": "code",
   "execution_count": 87,
   "metadata": {
    "collapsed": true
   },
   "outputs": [],
   "source": [
    "import pandas as pd\n",
    "import numpy as np\n",
    "\n",
    "import nltk\n",
    "from bs4 import BeautifulSoup\n",
    "import re\n",
    "\n",
    "from sklearn.feature_extraction.text import TfidfVectorizer\n",
    "from sklearn.linear_model import LogisticRegressionCV\n",
    "from sklearn.decomposition import TruncatedSVD\n",
    "from sklearn.pipeline import Pipeline\n",
    "from sklearn.preprocessing import StandardScaler, MinMaxScaler\n",
    "from sklearn.cross_validation import cross_val_score\n",
    "from sklearn import metrics\n",
    "from ml_metrics import quadratic_weighted_kappa\n",
    "\n",
    "import time\n",
    "import warnings\n",
    "\n",
    "import matplotlib.pyplot as plt\n",
    "%matplotlib inline"
   ]
  },
  {
   "cell_type": "code",
   "execution_count": 2,
   "metadata": {
    "collapsed": true
   },
   "outputs": [],
   "source": [
    "data = pd.read_csv(\"../../raw_train_test.csv\").fillna(\"\")"
   ]
  },
  {
   "cell_type": "code",
   "execution_count": 53,
   "metadata": {
    "collapsed": true
   },
   "outputs": [],
   "source": [
    "def preprocess(text):\n",
    "    without_html_tags = BeautifulSoup(text).get_text()\n",
    "    without_headers = re.sub(r\"^(.|\\n)*Item specifics\",\"\",without_html_tags)\n",
    "    without_symbols = re.sub(r\"[^a-zA-Z0-9]\",\" \",without_headers)\n",
    "    without_extra_spaces = \" \".join(without_symbols.split())\n",
    "    return without_extra_spaces\n",
    "\n",
    "def tokenize(text):\n",
    "    tokens = nltk.word_tokenize(text)\n",
    "    stemmer = nltk.PorterStemmer()\n",
    "    lemmatizer = nltk.WordNetLemmatizer()\n",
    "    return [lemmatizer.lemmatize(stemmer.stem(t.lower())) for t in tokens]"
   ]
  },
  {
   "cell_type": "code",
   "execution_count": 52,
   "metadata": {
    "collapsed": true
   },
   "outputs": [],
   "source": [
    "for col in ['query','product_title','product_description']:\n",
    "    data[col] = data[col].apply(lambda x: preprocess(x))"
   ]
  },
  {
   "cell_type": "code",
   "execution_count": 64,
   "metadata": {
    "collapsed": false
   },
   "outputs": [],
   "source": [
    "data['text'] = data.apply(\n",
    "    lambda x: \"%s %s\" % (x['query'],x['product_title']),\n",
    "    axis = 1\n",
    ")"
   ]
  },
  {
   "cell_type": "code",
   "execution_count": 70,
   "metadata": {
    "collapsed": false
   },
   "outputs": [],
   "source": [
    "tfidf = TfidfVectorizer(tokenizer = tokenize, stop_words = 'english')\n",
    "train_test_split_idx = data[data.dataset == 'train'].shape[0]\n",
    "X = tfidf.fit_transform(data['text'])\n",
    "X_train = X[:train_test_split_idx,:] \n",
    "y_train = data.loc[:train_test_split_idx-1,'median_relevance'].values.astype(np.int32)"
   ]
  },
  {
   "cell_type": "code",
   "execution_count": 100,
   "metadata": {
    "collapsed": true
   },
   "outputs": [],
   "source": [
    "pipeline = Pipeline([\n",
    "    ('SVD',TruncatedSVD(n_components=100)),\n",
    "    ('normalizer',StandardScaler()),\n",
    "    ('naive_bayes',LogisticRegressionCV(class_weight='auto',max_iter=200))\n",
    "])"
   ]
  },
  {
   "cell_type": "code",
   "execution_count": 101,
   "metadata": {
    "collapsed": false
   },
   "outputs": [
    {
     "name": "stdout",
     "output_type": "stream",
     "text": [
      "Average cross validation score: 0.2449\n",
      "All Cross Validation Scores: [ 0.24081318  0.25488596  0.22682284  0.2497383   0.25219347]\n",
      "Training time: 11.7 seconds\n"
     ]
    }
   ],
   "source": [
    "cross_val_start = time.time()\n",
    "if __name__ == \"__main__\":\n",
    "    kappa_scorer = metrics.make_scorer(\n",
    "        quadratic_weighted_kappa, \n",
    "        greater_is_better = True\n",
    "    )\n",
    "    \n",
    "    scores = cross_val_score(\n",
    "        estimator = pipeline,\n",
    "        X = X_train,\n",
    "        y = y_train,\n",
    "        scoring = kappa_scorer,\n",
    "        cv = 5,\n",
    "        n_jobs = -1\n",
    "    )\n",
    "print(\"Average cross validation score: %0.4f\" % scores.mean())\n",
    "print(\"All Cross Validation Scores: %s\" % scores)\n",
    "print(\"Training time: %0.1f seconds\" % (time.time() - cross_val_start))"
   ]
  },
  {
   "cell_type": "code",
   "execution_count": null,
   "metadata": {
    "collapsed": true
   },
   "outputs": [],
   "source": []
  }
 ],
 "metadata": {
  "kernelspec": {
   "display_name": "Python 3",
   "language": "python",
   "name": "python3"
  },
  "language_info": {
   "codemirror_mode": {
    "name": "ipython",
    "version": 3
   },
   "file_extension": ".py",
   "mimetype": "text/x-python",
   "name": "python",
   "nbconvert_exporter": "python",
   "pygments_lexer": "ipython3",
   "version": "3.4.1"
  }
 },
 "nbformat": 4,
 "nbformat_minor": 0
}
